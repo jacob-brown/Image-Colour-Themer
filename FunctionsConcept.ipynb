{
 "cells": [
  {
   "cell_type": "markdown",
   "id": "5a77013e-09a2-4a73-9ef0-54ef14550baa",
   "metadata": {},
   "source": [
    "# Functions Concept\n",
    "\n",
    "https://www.alanzucconi.com/2015/09/30/colour-sorting/\n",
    "\n",
    "Steps\n",
    "1. Sort and take position of values\n",
    "2. Bin the values\n",
    "3. Within each bin find the mode value and calculate difference of remaining value to the mode \n",
    "4. Apply to new value (New Value - Difference) i.e. 0=new value, 1=1+new value, ...\n",
    "5. Flatten\n",
    "6. Return to original order (using position values array)\n",
    "\n",
    "\n",
    "Possible issues:\n",
    "* When calculating the difference array, some values may be calculated as new values from other bins\n",
    "    - results in a loss of colours\n",
    "    - possible solution: return a value between these 2 numbers or half the step value"
   ]
  },
  {
   "cell_type": "markdown",
   "id": "f65edc70-5ce9-46aa-acff-0dd43a30980c",
   "metadata": {},
   "source": [
    "## Setup"
   ]
  },
  {
   "cell_type": "code",
   "execution_count": 27,
   "id": "9c9851bb-6e15-4259-84a3-566507f33e15",
   "metadata": {},
   "outputs": [],
   "source": [
    "from PIL import ImageColor\n",
    "import random\n",
    "import matplotlib.pyplot as plt\n",
    "import colorsys\n",
    "import math\n",
    "import copy\n",
    "import numpy as np\n",
    "from scipy import stats\n",
    "\n",
    "plt.rcParams['figure.figsize'] = [15, 5]\n",
    "\n",
    "def showImage(image):\n",
    "    plt.imshow(image)\n",
    "    plt.show() \n",
    "\n",
    "def hexToRGB(hexcode):\n",
    "    return ImageColor.getcolor(hexcode, \"RGB\")\n",
    "\n",
    "def rgbToHex(rgb):\n",
    "    return '#%02x%02x%02x' % tuple(rgb)"
   ]
  },
  {
   "cell_type": "markdown",
   "id": "079d4b72-4adc-4c5f-b658-6c17af7a1d9f",
   "metadata": {},
   "source": [
    "Colour array"
   ]
  },
  {
   "cell_type": "code",
   "execution_count": 2,
   "id": "c1bd836b-c1ca-4193-9418-e8f101abfdf6",
   "metadata": {},
   "outputs": [],
   "source": [
    "random.seed(123)\n",
    "colours_length = 50\n",
    "colours = []\n",
    "for i in range(1, colours_length):\n",
    "    colours.append (\n",
    "        [\n",
    "            random.randint(0, 255),\n",
    "            random.randint(0, 255),\n",
    "            random.randint(0, 255)\n",
    "        ]\n",
    "    )"
   ]
  },
  {
   "cell_type": "markdown",
   "id": "b8287c83-a08b-4fbb-8d6b-3297b93723f6",
   "metadata": {},
   "source": [
    "new hex values array"
   ]
  },
  {
   "cell_type": "code",
   "execution_count": 3,
   "id": "d70128ca-67ff-42e1-b8e6-45a45fe71498",
   "metadata": {},
   "outputs": [
    {
     "data": {
      "image/png": "[encoded data removed]",
      "text/plain": [
       "<Figure size 1080x360 with 1 Axes>"
      ]
     },
     "metadata": {
      "needs_background": "light"
     },
     "output_type": "display_data"
    }
   ],
   "source": [
    "nord_aurora_hex = [\"#bf616a\", \"#d08770\", \"#ebcb8b\", \"#a3be8c\", \"#b48ead\"]\n",
    "nord_aurora_RGB = [hexToRGB(i) for i in nord_aurora_hex]\n",
    "\n",
    "showImage([nord_aurora_RGB])"
   ]
  },
  {
   "cell_type": "markdown",
   "id": "73af33fa-afb9-4f5b-ae31-8e0a5e2998f8",
   "metadata": {},
   "source": [
    "## 1.1. Take note of the positions\n",
    "Make a deep copy to later get the correct ordr"
   ]
  },
  {
   "cell_type": "code",
   "execution_count": 4,
   "id": "cc24bd4a-486c-4222-96ef-7963f193ccc7",
   "metadata": {},
   "outputs": [],
   "source": [
    "og_colours = copy.deepcopy(colours)"
   ]
  },
  {
   "cell_type": "markdown",
   "id": "78c2e311-84e9-49f3-b709-8a70ab8470c0",
   "metadata": {},
   "source": [
    "## 1.2. Sort values \n",
    "\n",
    "based on https://www.alanzucconi.com/2015/09/30/colour-sorting/"
   ]
  },
  {
   "cell_type": "code",
   "execution_count": 5,
   "id": "d7735dab-6fe0-4543-b030-62c3abd485d4",
   "metadata": {},
   "outputs": [
    {
     "data": {
      "image/png": "[encoded data removed]",
      "text/plain": [
       "<Figure size 1080x360 with 1 Axes>"
      ]
     },
     "metadata": {
      "needs_background": "light"
     },
     "output_type": "display_data"
    }
   ],
   "source": [
    "showImage([colours])"
   ]
  },
  {
   "cell_type": "code",
   "execution_count": 6,
   "id": "829969a8-418d-4cf8-b847-7387e55a741e",
   "metadata": {},
   "outputs": [],
   "source": [
    "def step (r,g,b, repetitions=1):\n",
    "    lum = math.sqrt( .241 * r + .691 * g + .068 * b )\n",
    "\n",
    "    h, s, v = colorsys.rgb_to_hsv(r,g,b)\n",
    "\n",
    "    h2 = int(h * repetitions)\n",
    "    lum2 = int(lum * repetitions)\n",
    "    v2 = int(v * repetitions)\n",
    "\n",
    "    if h2 % 2 == 1:\n",
    "        v2 = repetitions - v2\n",
    "        lum = repetitions - lum\n",
    "\n",
    "    return (h2, lum, v2)\n"
   ]
  },
  {
   "cell_type": "code",
   "execution_count": 7,
   "id": "c31449ac-48c1-4fa2-bda1-b8b0b7a3d69f",
   "metadata": {},
   "outputs": [
    {
     "name": "stdout",
     "output_type": "stream",
     "text": [
      "OG order\n"
     ]
    },
    {
     "data": {
      "image/png": "[encoded data removed]",
      "text/plain": [
       "<Figure size 1080x360 with 1 Axes>"
      ]
     },
     "metadata": {
      "needs_background": "light"
     },
     "output_type": "display_data"
    },
    {
     "name": "stdout",
     "output_type": "stream",
     "text": [
      "sorted\n"
     ]
    },
    {
     "data": {
      "image/png": "[encoded data removed]",
      "text/plain": [
       "<Figure size 1080x360 with 1 Axes>"
      ]
     },
     "metadata": {
      "needs_background": "light"
     },
     "output_type": "display_data"
    }
   ],
   "source": [
    "colours.sort(key=lambda rgb: step(rgb[0],rgb[1],rgb[2],8)) \n",
    "\n",
    "print(\"OG order\")\n",
    "showImage([og_colours])\n",
    "print(\"sorted\")\n",
    "showImage([colours])\n"
   ]
  },
  {
   "cell_type": "markdown",
   "id": "3a7ce77c-1efc-46db-a915-b5de0af981a4",
   "metadata": {},
   "source": [
    "## 2. Bin the values"
   ]
  },
  {
   "cell_type": "code",
   "execution_count": 10,
   "id": "19c9ec7c-c8dc-4afc-a9d3-f7b71c5d0a8b",
   "metadata": {},
   "outputs": [],
   "source": [
    "nThemeColours = len(nord_aurora_RGB)\n",
    "binnedData = np.array_split(colours, nThemeColours)"
   ]
  },
  {
   "cell_type": "markdown",
   "id": "7522d867-9174-45b2-a5a3-1b966e22f28d",
   "metadata": {},
   "source": [
    "### 3.1. Within each bin find the mode value "
   ]
  },
  {
   "cell_type": "code",
   "execution_count": 33,
   "id": "1553faa9-81fd-4dc9-91c4-c6d2ef9e3422",
   "metadata": {},
   "outputs": [
    {
     "name": "stdout",
     "output_type": "stream",
     "text": [
      "[236  22   5]\n",
      "['#1a892c']\n",
      "[1]\n"
     ]
    }
   ],
   "source": [
    "#for i in binnedData:\n",
    "print(binnedData[0][0])\n",
    "#stats.mode(binnedData[0])\n",
    "\n",
    "hexBinnedData = [rgbToHex(i) for i in binnedData[0]]\n",
    "hexMode, hexModeCount = stats.mode(hexBinnedData)\n",
    "\n",
    "print(hexMode)\n",
    "print(hexModeCount)"
   ]
  },
  {
   "cell_type": "markdown",
   "id": "faee224d-0bcd-4224-8b3d-c5cf83bf51ce",
   "metadata": {},
   "source": [
    "### 3.2 and calculate difference of remaining value to the mode "
   ]
  },
  {
   "cell_type": "code",
   "execution_count": null,
   "id": "6fb7c5fb-b227-4b0a-9546-9c3edc507ce2",
   "metadata": {},
   "outputs": [],
   "source": []
  }
 ],
 "metadata": {
  "kernelspec": {
   "display_name": "Python 3",
   "language": "python",
   "name": "python3"
  },
  "language_info": {
   "codemirror_mode": {
    "name": "ipython",
    "version": 3
   },
   "file_extension": ".py",
   "mimetype": "text/x-python",
   "name": "python",
   "nbconvert_exporter": "python",
   "pygments_lexer": "ipython3",
   "version": "3.8.7"
  }
 },
 "nbformat": 4,
 "nbformat_minor": 5
}
