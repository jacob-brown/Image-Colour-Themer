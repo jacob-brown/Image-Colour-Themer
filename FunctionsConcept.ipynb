{
 "cells": [
  {
   "cell_type": "markdown",
   "id": "5a77013e-09a2-4a73-9ef0-54ef14550baa",
   "metadata": {},
   "source": [
    "# Functions Concept\n",
    "\n",
    "https://www.alanzucconi.com/2015/09/30/colour-sorting/\n",
    "\n",
    "Steps\n",
    "1. Sort and take position of values\n",
    "2. Bin the values\n",
    "3. Within each bin find the mode value and calculate difference of remaining value to the mode \n",
    "4. Apply to new value (New Value - Difference) i.e. 0=new value, 1=1+new value, ...\n",
    "5. Flatten\n",
    "6. Return to original order (using position values array)\n",
    "\n",
    "\n",
    "Possible issues:\n",
    "* When calculating the difference array, some values may be calculated as new values from other bins\n",
    "    - results in a loss of colours\n",
    "    - possible solution: return a value between these 2 numbers or half the step value"
   ]
  },
  {
   "cell_type": "markdown",
   "id": "f65edc70-5ce9-46aa-acff-0dd43a30980c",
   "metadata": {},
   "source": [
    "## Setup"
   ]
  },
  {
   "cell_type": "code",
   "execution_count": 1,
   "id": "9c9851bb-6e15-4259-84a3-566507f33e15",
   "metadata": {},
   "outputs": [],
   "source": [
    "from PIL import ImageColor\n",
    "import random\n",
    "import matplotlib.pyplot as plt\n",
    "import colorsys\n",
    "import math\n",
    "import copy\n",
    "import numpy as np\n",
    "from scipy import stats\n",
    "\n",
    "plt.rcParams['figure.figsize'] = [15, 5]\n",
    "\n",
    "def showImage(image):\n",
    "    plt.imshow(image)\n",
    "    plt.show() \n",
    "\n",
    "def hexToRGB(hexcode):\n",
    "    return ImageColor.getcolor(hexcode, \"RGB\")\n",
    "\n",
    "def rgbToHex(rgb):\n",
    "    return '#%02x%02x%02x' % tuple(rgb)"
   ]
  },
  {
   "cell_type": "markdown",
   "id": "079d4b72-4adc-4c5f-b658-6c17af7a1d9f",
   "metadata": {},
   "source": [
    "Colour array"
   ]
  },
  {
   "cell_type": "code",
   "execution_count": 2,
   "id": "c1bd836b-c1ca-4193-9418-e8f101abfdf6",
   "metadata": {},
   "outputs": [],
   "source": [
    "random.seed(123)\n",
    "colours_length = 50\n",
    "colours = []\n",
    "for i in range(1, colours_length):\n",
    "    colours.append (\n",
    "        [\n",
    "            random.randint(0, 255),\n",
    "            random.randint(0, 255),\n",
    "            random.randint(0, 255)\n",
    "        ]\n",
    "    )"
   ]
  },
  {
   "cell_type": "markdown",
   "id": "b8287c83-a08b-4fbb-8d6b-3297b93723f6",
   "metadata": {},
   "source": [
    "new hex values array"
   ]
  },
  {
   "cell_type": "code",
   "execution_count": 3,
   "id": "d70128ca-67ff-42e1-b8e6-45a45fe71498",
   "metadata": {},
   "outputs": [
    {
     "data": {
      "image/png": "[encoded data removed]",
      "text/plain": [
       "<Figure size 1080x360 with 1 Axes>"
      ]
     },
     "metadata": {
      "needs_background": "light"
     },
     "output_type": "display_data"
    }
   ],
   "source": [
    "nord_aurora_hex = [\"#bf616a\", \"#d08770\", \"#ebcb8b\", \"#a3be8c\", \"#b48ead\"]\n",
    "nord_aurora_RGB = [hexToRGB(i) for i in nord_aurora_hex]\n",
    "\n",
    "showImage([nord_aurora_RGB])"
   ]
  },
  {
   "cell_type": "markdown",
   "id": "73af33fa-afb9-4f5b-ae31-8e0a5e2998f8",
   "metadata": {},
   "source": [
    "## 1.1. Deep copy of original array\n",
    "Make a deep copy to later get the correct ordr"
   ]
  },
  {
   "cell_type": "code",
   "execution_count": 4,
   "id": "cc24bd4a-486c-4222-96ef-7963f193ccc7",
   "metadata": {},
   "outputs": [],
   "source": [
    "og_colours = copy.deepcopy(colours)"
   ]
  },
  {
   "cell_type": "markdown",
   "id": "78c2e311-84e9-49f3-b709-8a70ab8470c0",
   "metadata": {},
   "source": [
    "## 1.2. Sort values \n",
    "\n",
    "based on https://www.alanzucconi.com/2015/09/30/colour-sorting/"
   ]
  },
  {
   "cell_type": "code",
   "execution_count": 5,
   "id": "d7735dab-6fe0-4543-b030-62c3abd485d4",
   "metadata": {},
   "outputs": [
    {
     "data": {
      "image/png": "[encoded data removed]",
      "text/plain": [
       "<Figure size 1080x360 with 1 Axes>"
      ]
     },
     "metadata": {
      "needs_background": "light"
     },
     "output_type": "display_data"
    }
   ],
   "source": [
    "showImage([colours])"
   ]
  },
  {
   "cell_type": "code",
   "execution_count": 6,
   "id": "829969a8-418d-4cf8-b847-7387e55a741e",
   "metadata": {},
   "outputs": [],
   "source": [
    "def step(r,g,b, repetitions=1):\n",
    "    lum = math.sqrt( .241 * r + .691 * g + .068 * b )\n",
    "\n",
    "    h, s, v = colorsys.rgb_to_hsv(r,g,b)\n",
    "\n",
    "    h2 = int(h * repetitions)\n",
    "    lum2 = int(lum * repetitions)\n",
    "    v2 = int(v * repetitions)\n",
    "\n",
    "    if h2 % 2 == 1:\n",
    "        v2 = repetitions - v2\n",
    "        lum = repetitions - lum\n",
    "\n",
    "    return (h2, lum, v2)\n"
   ]
  },
  {
   "cell_type": "code",
   "execution_count": 16,
   "id": "c31449ac-48c1-4fa2-bda1-b8b0b7a3d69f",
   "metadata": {},
   "outputs": [
    {
     "name": "stdout",
     "output_type": "stream",
     "text": [
      "OG order\n"
     ]
    },
    {
     "data": {
      "image/png": "[encoded data removed]",
      "text/plain": [
       "<Figure size 1080x360 with 1 Axes>"
      ]
     },
     "metadata": {
      "needs_background": "light"
     },
     "output_type": "display_data"
    },
    {
     "name": "stdout",
     "output_type": "stream",
     "text": [
      "sorted\n"
     ]
    },
    {
     "data": {
      "image/png": "[encoded data removed]",
      "text/plain": [
       "<Figure size 1080x360 with 1 Axes>"
      ]
     },
     "metadata": {
      "needs_background": "light"
     },
     "output_type": "display_data"
    }
   ],
   "source": [
    "#Sort with step function\n",
    "colours.sort(key=lambda rgb: step(rgb[0],rgb[1],rgb[2],8)) \n",
    "\n",
    "print(\"OG order\")\n",
    "showImage([og_colours])\n",
    "print(\"sorted\")\n",
    "showImage([colours])"
   ]
  },
  {
   "cell_type": "markdown",
   "id": "db32d316-08e1-428b-8564-0052a72f6315",
   "metadata": {},
   "source": [
    "## 1.3 Determine the order\n",
    "* create an list of the original index in the order of the newly sorted list\n",
    "* by comparing the original with the sorted list\n",
    "* create a `None` array to help with the occurance of non-unique values - as their positions should be unique!\n"
   ]
  },
  {
   "cell_type": "code",
   "execution_count": 18,
   "id": "e2921c10-2334-4b79-823a-08c0fff33012",
   "metadata": {},
   "outputs": [
    {
     "name": "stdout",
     "output_type": "stream",
     "text": [
      "[6, 8, 9, 10, 1, 2, 7, 3, 4, 5]\n",
      "[6, 8, 9, 10, 1, 2, 7, 3, 4, 5]\n"
     ]
    }
   ],
   "source": [
    "def returnCompareListsReturnIndex(original, arranged):\n",
    "\n",
    "    size = len(original)\n",
    "    store_pos_None = [None]* len(original)\n",
    "\n",
    "    for n in range(0, size):\n",
    "        elem = original[n]\n",
    "        pos = [i for i, x in enumerate(arranged) if x == elem]\n",
    "\n",
    "        if len(pos) <= 1:\n",
    "            # when only 1 instance is present\n",
    "            store_pos_None[n] = pos[0]\n",
    "        else:\n",
    "            # multiple posible positions\n",
    "            for i in pos:\n",
    "                if store_pos_None[n] is None and i not in store_pos_None:\n",
    "                    # position must not already be filled and index not already present \n",
    "                        store_pos_None[n] = i\n",
    "    \n",
    "    return store_pos_None\n",
    "\n",
    "\n",
    "def rearrange(arranged, indexList):\n",
    "    return [arranged[i] for i in indexList]\n",
    "\n",
    "\n",
    "original = [6, 8, 9, 10, 1, 2, 7, 3, 4, 5]\n",
    "arranged = [1, 2, 3, 4, 5, 6, 7, 8, 9, 10]\n",
    "\n",
    "#original = [3, 2, 3, 1, 3]\n",
    "#arranged = [1, 2, 3, 3, 3]\n",
    "\n",
    "indexList = returnCompareListsReturnIndex(original, arranged)\n",
    "\n",
    "rearrange_list = rearrange(arranged, indexList)\n",
    "\n",
    "print(original)\n",
    "print(rearrange_list)\n"
   ]
  },
  {
   "cell_type": "code",
   "execution_count": 28,
   "id": "576ea7d7-9c2a-48db-a409-eaf15b95ee36",
   "metadata": {},
   "outputs": [
    {
     "data": {
      "image/png": "[encoded data removed]",
      "text/plain": [
       "<Figure size 1080x360 with 1 Axes>"
      ]
     },
     "metadata": {
      "needs_background": "light"
     },
     "output_type": "display_data"
    },
    {
     "data": {
      "image/png": "[encoded data removed]",
      "text/plain": [
       "<Figure size 1080x360 with 1 Axes>"
      ]
     },
     "metadata": {
      "needs_background": "light"
     },
     "output_type": "display_data"
    },
    {
     "data": {
      "image/png": "[encoded data removed]",
      "text/plain": [
       "<Figure size 1080x360 with 1 Axes>"
      ]
     },
     "metadata": {
      "needs_background": "light"
     },
     "output_type": "display_data"
    }
   ],
   "source": [
    "indexList = returnCompareListsReturnIndex(og_colours, colours)\n",
    "rearrange_list = rearrange(colours, indexList)\n",
    "\n",
    "showImage([og_colours])\n",
    "showImage([colours])\n",
    "showImage([rearrange_list])\n",
    "\n",
    "\n",
    "# seems to work..."
   ]
  },
  {
   "cell_type": "markdown",
   "id": "3a7ce77c-1efc-46db-a915-b5de0af981a4",
   "metadata": {},
   "source": [
    "## 2. Bin the values"
   ]
  },
  {
   "cell_type": "code",
   "execution_count": 9,
   "id": "19c9ec7c-c8dc-4afc-a9d3-f7b71c5d0a8b",
   "metadata": {},
   "outputs": [],
   "source": [
    "nThemeColours = len(nord_aurora_RGB)\n",
    "binnedData = np.array_split(colours, nThemeColours)"
   ]
  },
  {
   "cell_type": "markdown",
   "id": "7522d867-9174-45b2-a5a3-1b966e22f28d",
   "metadata": {},
   "source": [
    "### 3.1. Within each bin find the mode value "
   ]
  },
  {
   "cell_type": "code",
   "execution_count": 10,
   "id": "1553faa9-81fd-4dc9-91c4-c6d2ef9e3422",
   "metadata": {},
   "outputs": [
    {
     "data": {
      "text/plain": [
       "[[190, 120, 40], [139, 222, 215], [10, 131, 180], [35, 3, 161], [221, 31, 69]]"
      ]
     },
     "execution_count": 10,
     "metadata": {},
     "output_type": "execute_result"
    }
   ],
   "source": [
    "def getRoughMiddle(arr):\n",
    "    halfway = round(len(arr)/2)-1\n",
    "    return [arr[halfway]]\n",
    "\n",
    "def modeRGBInBinnedArray(binnedData):\n",
    "    store = []\n",
    "    for bin_element in binnedData:\n",
    "\n",
    "        hexBinnedData = [rgbToHex(i) for i in bin_element]\n",
    "        hexMode, hexModeCount = stats.mode(hexBinnedData)\n",
    "\n",
    "        # when there is no mode return the middle of the bin (as they are already sorted)\n",
    "        if hexModeCount == 1:\n",
    "            hexMode = getRoughMiddle(hexBinnedData)\n",
    "\n",
    "        # convert back to RGB\n",
    "        hexMode = list(hexToRGB(hexMode[0]))\n",
    "        \n",
    "        store.append(hexMode)\n",
    "    return store\n",
    "        \n",
    "modeColours = modeRGBInBinnedArray(binnedData)\n",
    "modeColours"
   ]
  },
  {
   "cell_type": "markdown",
   "id": "faee224d-0bcd-4224-8b3d-c5cf83bf51ce",
   "metadata": {},
   "source": [
    "### 3.2 and calculate difference of remaining value to the mode "
   ]
  },
  {
   "cell_type": "code",
   "execution_count": 11,
   "id": "6fb7c5fb-b227-4b0a-9546-9c3edc507ce2",
   "metadata": {},
   "outputs": [],
   "source": [
    "# lengths should be the same\n",
    "#if len(binnedData) == len(modeColours):\n",
    "#    print(\"continue!!\")\n",
    "#else:\n",
    "#    print(\"incorrect number of mode values\")\n"
   ]
  },
  {
   "cell_type": "code",
   "execution_count": 12,
   "id": "54babf24-1a51-4beb-81e7-0e56654dd955",
   "metadata": {},
   "outputs": [
    {
     "data": {
      "text/plain": [
       "[array([[237,   0,  71],\n",
       "        [182,  22, 108],\n",
       "        [126,  60,  66],\n",
       "        [230,  29,  88],\n",
       "        [191,  97, 106],\n",
       "        [209, 113, 121],\n",
       "        [250, 111, 153],\n",
       "        [249, 191, 255],\n",
       "        [231, 207, 221],\n",
       "        [ 27, 114, 110]]),\n",
       " array([[114,  99,   0],\n",
       "        [106, 119,   0],\n",
       "        [137, 146,   0],\n",
       "        [188, 160,   0],\n",
       "        [208, 135, 112],\n",
       "        [147, 140,  90],\n",
       "        [106, 146,  95],\n",
       "        [ 98, 111,  53],\n",
       "        [122, 101,  12],\n",
       "        [ 88, 107,  67]]),\n",
       " array([[255, 244, 129],\n",
       "        [241, 164,   1],\n",
       "        [255, 144,  23],\n",
       "        [225, 127,   0],\n",
       "        [235, 203, 139],\n",
       "        [235, 221, 179],\n",
       "        [243, 228, 134],\n",
       "        [255, 219, 212],\n",
       "        [255, 221, 158],\n",
       "        [241, 243, 171]]),\n",
       " array([[134, 255, 201],\n",
       "        [255, 255, 179],\n",
       "        [255, 255, 220],\n",
       "        [189, 255, 176],\n",
       "        [163, 190, 140],\n",
       "        [255, 191, 172],\n",
       "        [255, 197, 157],\n",
       "        [255, 231, 172],\n",
       "        [255, 255, 154],\n",
       "        [255, 251, 151]]),\n",
       " array([[139, 228, 255],\n",
       "        [203, 246, 255],\n",
       "        [206, 216, 255],\n",
       "        [180, 142, 173],\n",
       "        [173, 143, 177],\n",
       "        [178, 125, 185],\n",
       "        [133, 137, 185],\n",
       "        [137, 123, 187],\n",
       "        [131, 119, 200]])]"
      ]
     },
     "execution_count": 12,
     "metadata": {},
     "output_type": "execute_result"
    }
   ],
   "source": [
    "def adjustArrayToTheme(binnedDataElement, modeRGB, theme_RGB):\n",
    "    \n",
    "    diffArray = binnedDataElement - modeRGB\n",
    "    theme_adjust = diffArray + theme_RGB\n",
    "\n",
    "    # correct for negative values\n",
    "    theme_adjust[theme_adjust < 0] = 0\n",
    "    theme_adjust[theme_adjust > 255] = 255\n",
    "\n",
    "    return theme_adjust\n",
    "\n",
    "def returnAdjustedBinnedData(binnedData, modeColours, theme_RGB):\n",
    "    store = []\n",
    "    for i in range(0, len(binnedData)):\n",
    "        adjustedBin = adjustArrayToTheme(binnedData[i], modeColours[i], theme_RGB[i])\n",
    "        store.append(adjustedBin)\n",
    "\n",
    "    return store\n",
    "\n",
    "\n",
    "adjustedThemeBinnedData = returnAdjustedBinnedData(binnedData, modeColours, nord_aurora_RGB)\n",
    "adjustedThemeBinnedData"
   ]
  },
  {
   "cell_type": "code",
   "execution_count": 13,
   "id": "4aa96ca9-0fe5-46cf-8219-a09fd0a1bbbf",
   "metadata": {},
   "outputs": [
    {
     "data": {
      "image/png": "[encoded data removed]",
      "text/plain": [
       "<Figure size 1080x360 with 1 Axes>"
      ]
     },
     "metadata": {
      "needs_background": "light"
     },
     "output_type": "display_data"
    }
   ],
   "source": [
    "showImage([adjustedThemeBinnedData[0]])"
   ]
  },
  {
   "cell_type": "markdown",
   "id": "57adf940-9968-46e1-8a34-e0581e60f261",
   "metadata": {},
   "source": [
    "## 5. flattern"
   ]
  },
  {
   "cell_type": "code",
   "execution_count": 14,
   "id": "b096ea03-a6b6-4a94-9b10-8f281238d3e9",
   "metadata": {},
   "outputs": [],
   "source": [
    "flat_colour_list = [list(item) for sublist in adjustedThemeBinnedData for item in sublist]"
   ]
  },
  {
   "cell_type": "code",
   "execution_count": 15,
   "id": "cb14bf07-4c01-4c7a-856a-d8b72f41329a",
   "metadata": {},
   "outputs": [
    {
     "name": "stdout",
     "output_type": "stream",
     "text": [
      "original\n"
     ]
    },
    {
     "data": {
      "image/png": "[encoded data removed]",
      "text/plain": [
       "<Figure size 1080x360 with 1 Axes>"
      ]
     },
     "metadata": {
      "needs_background": "light"
     },
     "output_type": "display_data"
    },
    {
     "name": "stdout",
     "output_type": "stream",
     "text": [
      "adjusted with\n"
     ]
    },
    {
     "data": {
      "image/png": "[encoded data removed]",
      "text/plain": [
       "<Figure size 1080x360 with 1 Axes>"
      ]
     },
     "metadata": {
      "needs_background": "light"
     },
     "output_type": "display_data"
    },
    {
     "name": "stdout",
     "output_type": "stream",
     "text": [
      "result\n"
     ]
    },
    {
     "data": {
      "image/png": "[encoded data removed]",
      "text/plain": [
       "<Figure size 1080x360 with 1 Axes>"
      ]
     },
     "metadata": {
      "needs_background": "light"
     },
     "output_type": "display_data"
    }
   ],
   "source": [
    "print(\"original\")\n",
    "showImage([colours])\n",
    "print(\"adjusted with\")\n",
    "showImage([nord_aurora_RGB])\n",
    "print(\"result\")\n",
    "showImage([flat_colour_list])"
   ]
  },
  {
   "cell_type": "markdown",
   "id": "a2002ff1-663e-419f-8f46-e8cc8ce4a001",
   "metadata": {},
   "source": [
    "## 6. Return to original order\n"
   ]
  },
  {
   "cell_type": "code",
   "execution_count": 31,
   "id": "74cd2645-1126-4035-9f9c-502b6d822ea4",
   "metadata": {},
   "outputs": [
    {
     "data": {
      "image/png": "[encoded data removed]",
      "text/plain": [
       "<Figure size 1080x360 with 1 Axes>"
      ]
     },
     "metadata": {
      "needs_background": "light"
     },
     "output_type": "display_data"
    },
    {
     "data": {
      "image/png": "[encoded data removed]",
      "text/plain": [
       "<Figure size 1080x360 with 1 Axes>"
      ]
     },
     "metadata": {
      "needs_background": "light"
     },
     "output_type": "display_data"
    },
    {
     "data": {
      "image/png": "[encoded data removed]",
      "text/plain": [
       "<Figure size 1080x360 with 1 Axes>"
      ]
     },
     "metadata": {
      "needs_background": "light"
     },
     "output_type": "display_data"
    },
    {
     "data": {
      "image/png": "[encoded data removed]",
      "text/plain": [
       "<Figure size 1080x360 with 1 Axes>"
      ]
     },
     "metadata": {
      "needs_background": "light"
     },
     "output_type": "display_data"
    }
   ],
   "source": [
    "indexList = returnCompareListsReturnIndex(og_colours, colours)\n",
    "rearrange_list = rearrange(flat_colour_list, indexList)\n",
    "\n",
    "showImage([og_colours])\n",
    "showImage([colours])\n",
    "showImage([flat_colour_list])\n",
    "showImage([rearrange_list])\n"
   ]
  },
  {
   "cell_type": "code",
   "execution_count": null,
   "id": "874c3928-a5e6-46b2-84f8-fc227655f3e3",
   "metadata": {},
   "outputs": [],
   "source": []
  }
 ],
 "metadata": {
  "kernelspec": {
   "display_name": "Python 3",
   "language": "python",
   "name": "python3"
  },
  "language_info": {
   "codemirror_mode": {
    "name": "ipython",
    "version": 3
   },
   "file_extension": ".py",
   "mimetype": "text/x-python",
   "name": "python",
   "nbconvert_exporter": "python",
   "pygments_lexer": "ipython3",
   "version": "3.8.7"
  }
 },
 "nbformat": 4,
 "nbformat_minor": 5
}
