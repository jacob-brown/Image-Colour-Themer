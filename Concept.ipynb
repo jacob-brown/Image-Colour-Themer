{
 "cells": [
  {
   "cell_type": "markdown",
   "id": "interim-bachelor",
   "metadata": {},
   "source": [
    "# Concept\n",
    "Aim: To take an image and apply a new colour theme to it\n",
    "\n",
    "Steps:\n",
    "1. take an image \n",
    "2. decide on a new colour theme\n",
    "3. identify the number of unique colours in the image\n",
    "4. bin them (n = the number of colours in the new theme)\n",
    "5. take the mode/median colour and assign it to a colour in the theme\n",
    "6. based on the distance from the \n",
    "original pixels, modify the new colours accordingly \n",
    "\n",
    "Possible steps\n",
    "* sorting the colours by hue? lighness? \n"
   ]
  },
  {
   "cell_type": "code",
   "execution_count": 1,
   "id": "external-harvard",
   "metadata": {},
   "outputs": [],
   "source": [
    "import numpy as np\n",
    "from PIL import Image\n",
    "from PIL import ImageColor\n",
    "import matplotlib.pyplot as plt\n",
    "\n",
    "def showImage(image):\n",
    "    plt.imshow(image)\n",
    "    plt.show() \n",
    "    \n",
    "def hexToRGB(hexcode):\n",
    "    return ImageColor.getcolor(hexcode, \"RGB\")"
   ]
  },
  {
   "cell_type": "markdown",
   "id": "debb60ab-ce5f-4c14-ba16-7aa8be974533",
   "metadata": {},
   "source": [
    "## Image"
   ]
  },
  {
   "cell_type": "code",
   "execution_count": 9,
   "id": "9a49d3a6-1855-4953-8673-79ee5a33d1e0",
   "metadata": {},
   "outputs": [
    {
     "name": "stdout",
     "output_type": "stream",
     "text": [
      "(216, 384, 3)\n",
      "(384, 3)\n"
     ]
    },
    {
     "data": {
      "image/png": "[encoded data removed]",
      "text/plain": [
       "<Figure size 432x288 with 1 Axes>"
      ]
     },
     "metadata": {
      "needs_background": "light"
     },
     "output_type": "display_data"
    }
   ],
   "source": [
    "file = \"images/original/1_small.png\"\n",
    "\n",
    "img = Image.open(file)\n",
    "rgb_im = img.convert(\"RGB\")\n",
    "arr = np.array(rgb_im)\n",
    "\n",
    "\n",
    "\n",
    "print(arr.shape)\n",
    "print(arr[0].shape)  # first row\n",
    "showImage(arr)"
   ]
  },
  {
   "cell_type": "markdown",
   "id": "39bbd9fb-ef12-4a9f-a360-a31115e58910",
   "metadata": {},
   "source": [
    "## Colour Pallete\n",
    "\n",
    "nord aurora "
   ]
  },
  {
   "cell_type": "code",
   "execution_count": 3,
   "id": "23ca3cc9-6c21-4f99-98e1-8abd4285caf6",
   "metadata": {},
   "outputs": [],
   "source": [
    "nord_aurora_hex = [\"#bf616a\", \"#d08770\", \"#ebcb8b\", \"#a3be8c\", \"#b48ead\"]\n",
    "nord_aurora_RGB = [hexToRGB(i) for i in nord_aurora_hex]"
   ]
  },
  {
   "cell_type": "markdown",
   "id": "b5278696-54f3-4046-81d3-c3335cd966ff",
   "metadata": {},
   "source": [
    "## Lookup array\n",
    "Somehow I need to keep track of the location of the pixels and their values\n",
    "\n",
    "contains:\n",
    "* position\n",
    "* pixel value"
   ]
  },
  {
   "cell_type": "code",
   "execution_count": 4,
   "id": "317d4806-5438-45e3-ae34-c5c0c5db5201",
   "metadata": {},
   "outputs": [
    {
     "data": {
      "text/plain": [
       "array([[  0,   0],\n",
       "       [  0,   1],\n",
       "       [  0,   2],\n",
       "       ...,\n",
       "       [383, 213],\n",
       "       [383, 214],\n",
       "       [383, 215]])"
      ]
     },
     "execution_count": 4,
     "metadata": {},
     "output_type": "execute_result"
    }
   ],
   "source": [
    "img_dimension = arr.shape[0:2]\n",
    "n_pixels = img_dimension[0] * img_dimension[1]\n",
    "\n",
    "lookup_arr = np.arange(n_pixels)\n",
    "\n",
    "img_dimension\n",
    "\n",
    "\n",
    "row = img_dimension[0]\n",
    "column = img_dimension[1]\n",
    "store_position_arr = []\n",
    "for i in range(0, column):\n",
    "    for c in range(0, row):\n",
    "        store_position_arr.append([i, c])\n",
    "    \n",
    "      \n",
    "position_arr = np.array(store_position_arr)\n",
    "position_arr"
   ]
  },
  {
   "cell_type": "markdown",
   "id": "7687b216-3326-458f-8e6e-2e3c0868977a",
   "metadata": {},
   "source": [
    "## Bin the data"
   ]
  },
  {
   "cell_type": "code",
   "execution_count": 5,
   "id": "15363a10-bb23-4f8a-9643-24b94204148c",
   "metadata": {},
   "outputs": [],
   "source": [
    "bins = len(nord_aurora_RGB)"
   ]
  },
  {
   "cell_type": "code",
   "execution_count": null,
   "id": "8ec6d733-0f6e-4862-837f-bfc36fcecd90",
   "metadata": {},
   "outputs": [],
   "source": []
  }
 ],
 "metadata": {
  "kernelspec": {
   "display_name": "Python 3",
   "language": "python",
   "name": "python3"
  },
  "language_info": {
   "codemirror_mode": {
    "name": "ipython",
    "version": 3
   },
   "file_extension": ".py",
   "mimetype": "text/x-python",
   "name": "python",
   "nbconvert_exporter": "python",
   "pygments_lexer": "ipython3",
   "version": "3.8.7"
  }
 },
 "nbformat": 4,
 "nbformat_minor": 5
}
